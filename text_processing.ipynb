{
 "cells": [
  {
   "cell_type": "code",
   "execution_count": 2,
   "id": "4e322c6f-fab9-4003-9705-8c39fe43e800",
   "metadata": {},
   "outputs": [
    {
     "name": "stdout",
     "output_type": "stream",
     "text": [
      "showing info https://raw.githubusercontent.com/nltk/nltk_data/gh-pages/index.xml\n"
     ]
    },
    {
     "data": {
      "text/plain": [
       "True"
      ]
     },
     "execution_count": 2,
     "metadata": {},
     "output_type": "execute_result"
    }
   ],
   "source": [
    "import nltk\n",
    "nltk.download()"
   ]
  },
  {
   "cell_type": "code",
   "execution_count": 4,
   "id": "e1832c85-187f-45f4-bd1f-9125d5f08ae4",
   "metadata": {},
   "outputs": [
    {
     "name": "stdout",
     "output_type": "stream",
     "text": [
      "['Hello Mr. Smith, how are you doing today?', 'The weather is great, and Python is awesome.', 'The sky is pinkish-blue.', \"You shouldn't eat cardboard.\"]\n",
      "['Hello', 'Mr.', 'Smith', ',', 'how', 'are', 'you', 'doing', 'today', '?', 'The', 'weather', 'is', 'great', ',', 'and', 'Python', 'is', 'awesome', '.', 'The', 'sky', 'is', 'pinkish-blue', '.', 'You', 'should', \"n't\", 'eat', 'cardboard', '.']\n"
     ]
    }
   ],
   "source": [
    "from nltk.tokenize import sent_tokenize, word_tokenize\n",
    "\n",
    "EXAMPLE_TEXT = \"Hello Mr. Smith, how are you doing today? The weather is great, and Python is awesome. The sky is pinkish-blue. You shouldn't eat cardboard.\"\n",
    "\n",
    "print(sent_tokenize(EXAMPLE_TEXT))\n",
    "print(word_tokenize(EXAMPLE_TEXT))"
   ]
  },
  {
   "cell_type": "code",
   "execution_count": 9,
   "id": "d3a42690-efde-44f2-a981-524776be86d4",
   "metadata": {},
   "outputs": [
    {
     "name": "stdout",
     "output_type": "stream",
     "text": [
      "1\n",
      "1.  \n",
      "2.  \n",
      "3.  \n",
      "4.  \n",
      "5.  \n",
      "6.  \n",
      "MINISTÉRIO DA EDUCAÇÃO \n",
      "UNIVERSIDADE FEDERAL DE PERNAMBUCO \n",
      "SEÇÃO DE ACOMPANHAMENTO E AVALIAÇÃO DAS PROGRESSÕES E QUALIFICAÇÃO - PROGEPE \n",
      "DESPACHO Nº 73189/2022 - SAPQ PROGEPE (11.07.47) \n",
      " NÃO PROTOCOLADO Nº do Protocolo:\n",
      "Recife-PE, 08 de setembro de 2022.\n",
      "AO NATI - CCSA\n",
      "Solicitamos as providências para dar ciência ao requerente quanto às seguintes considerações:\n",
      "Trata-se de pedido de Incentivo à Qualificação, nos termos do art. 11 e 12 § 1º e 4° da Lei nº 11.091/2005, regulamentada\n",
      "p e l o  D e c r e t o  n º  5 8 2 4 / 2 0 0 6 .\n",
      "O Ofício Circular SEI nº 39/2019/GAB/SAA/SAA-MEC (anexo ) promove a uniformização de entendimentos a respeito05\n",
      "da comprovação de titulação para efeitos de pagamento de Incentivo à Qualificação. O Ofício Circular n° 27/2022 CFC-\n",
      "PROGEPE (anexo ) reitera essa necessidade e fornece um modelo de declaração como sugestão.06\n",
      "Nesse sentido é necessária a apresentação de , que documento formal expedido pela instituição de ensino responsável\n",
      "declare : a conclusão efetiva de curso reconhecido pelo MEC, a aprovação do interessado e a inexistência de expressamente\n",
      "qualquer pendência para a aquisição da titulação. Além disso, deve-se anexar o documento comprobatório, emitido pela\n",
      "instituição de ensino, atestando o início da expedição e registro do respectivo certificado/diploma.\n",
      "Na declaração apresentada (anexo ), não foi localizada a menção  às informações assinaladas a seguir: 01 EXPRESSA\n",
      "( ) conclusão efetiva de curso reconhecido pelo MEC;\n",
      "(  )  a p r o v a ç ã o  d o  i n t e r e s s a d o ;\n",
      "() inexistência de qualquer pendência para a aquisição da titulação;X\n",
      "( ) início da expedição e registro do certificado/diploma.\n",
      "Por isso, solicitamos que seja anexada uma  pelo MEC.  declaração com todas as informações exigidas\n",
      "Após atendida a demanda, o requerente também deve anexar despacho assinado eletronicamente, enviando o processo para\n",
      "reanálise.\n",
      "(Assinado digitalmente em 08/09/2022 17:31)\n",
      "SEVERINO DA SILVA BORGES\n",
      "AUX EM ADMINISTRACAO\n",
      "SAPQ PROGEPE (11.07.47)\n",
      "Matrícula: 1069566\n",
      "Processo Associado: 23076.090662/2022-79\n",
      "Para verificar a autenticidade deste documento entre em  informando seu número: http://sipac.ufpe.br/public/documentos/index.jsp\n",
      ", ano: , tipo: , data de emissão:  e o código de verificação: 73189 2022 DESPACHO 08/09/2022 cadb174ab1\n"
     ]
    }
   ],
   "source": [
    "# importing required modules\n",
    "import PyPDF2\n",
    "  \n",
    "# creating a pdf file object\n",
    "pdfFileObj = open('example.pdf', 'rb')\n",
    "  \n",
    "# creating a pdf reader object\n",
    "pdfReader = PyPDF2.PdfFileReader(pdfFileObj)\n",
    "  \n",
    "# printing number of pages in pdf file\n",
    "print(pdfReader.numPages)\n",
    "  \n",
    "# creating a page object\n",
    "pageObj = pdfReader.getPage(0)\n",
    "\n",
    "type(pageObj)\n",
    "# extracting text from page\n",
    "print(pageObj.extractText())\n",
    "  \n",
    "# closing the pdf file object\n",
    "pdfFileObj.close()"
   ]
  },
  {
   "cell_type": "code",
   "execution_count": 10,
   "id": "3926bfdd-9ae2-48b8-8969-adc8d4c0666a",
   "metadata": {},
   "outputs": [
    {
     "ename": "SyntaxError",
     "evalue": "unexpected EOF while parsing (<ipython-input-10-41efaff31067>, line 1)",
     "output_type": "error",
     "traceback": [
      "\u001b[1;36m  File \u001b[1;32m\"<ipython-input-10-41efaff31067>\"\u001b[1;36m, line \u001b[1;32m1\u001b[0m\n\u001b[1;33m    print(word_tokenize(pageObj.extractText())\u001b[0m\n\u001b[1;37m                                              ^\u001b[0m\n\u001b[1;31mSyntaxError\u001b[0m\u001b[1;31m:\u001b[0m unexpected EOF while parsing\n"
     ]
    }
   ],
   "source": [
    "print(word_tokenize(pageObj.extractText())"
   ]
  },
  {
   "cell_type": "code",
   "execution_count": null,
   "id": "9ecb07dc-debc-4590-98b8-41a10e0f4036",
   "metadata": {},
   "outputs": [],
   "source": []
  }
 ],
 "metadata": {
  "kernelspec": {
   "display_name": "Python 3",
   "language": "python",
   "name": "python3"
  },
  "language_info": {
   "codemirror_mode": {
    "name": "ipython",
    "version": 3
   },
   "file_extension": ".py",
   "mimetype": "text/x-python",
   "name": "python",
   "nbconvert_exporter": "python",
   "pygments_lexer": "ipython3",
   "version": "3.8.8"
  }
 },
 "nbformat": 4,
 "nbformat_minor": 5
}
